{
 "cells": [
  {
   "cell_type": "markdown",
   "metadata": {},
   "source": [
    "# Imports and function definitions"
   ]
  },
  {
   "cell_type": "code",
   "execution_count": 35,
   "metadata": {},
   "outputs": [],
   "source": [
    "# Used Python 3.7, beware\n",
    "\n",
    "import pandas as pd\n",
    "import numpy as np\n",
    "\n",
    "data_case_storage=\"C://Users//Antoine//Documents//Ecole des Ponts//Cours 3A//Oliver Wymann//stored_data_case.h5\"\n",
    "parkmeter_coords_path = 'C://Users//Antoine//Documents//Ecole des Ponts//Cours 3A//Oliver Wymann//parkmeter_coords.h5'\n",
    "new_data_path = 'C://Users//Antoine//Documents//Ecole des Ponts//Cours 3A//Oliver Wymann//clean_data.h5'"
   ]
  },
  {
   "cell_type": "code",
   "execution_count": 2,
   "metadata": {},
   "outputs": [],
   "source": [
    "def list_HDF_file(file_name):\n",
    "    with pd.HDFStore(file_name, complevel=9, complib='blosc') as store:\n",
    "        result = store.keys()   \n",
    "    return result\n",
    "\n",
    "def read_HDF_file(file_name, table):\n",
    "    with pd.HDFStore(file_name, complevel=9, complib='blosc') as store:\n",
    "        return store[table]"
   ]
  },
  {
   "cell_type": "markdown",
   "metadata": {},
   "source": [
    "# Data reading"
   ]
  },
  {
   "cell_type": "code",
   "execution_count": 3,
   "metadata": {},
   "outputs": [
    {
     "name": "stdout",
     "output_type": "stream",
     "text": [
      "['/parking_counts', '/parkmeters_zones_12_12', '/transaction_and_locations']\n"
     ]
    }
   ],
   "source": [
    "# List of the data series in this dataframe\n",
    "print(list_HDF_file(data_case_storage))"
   ]
  },
  {
   "cell_type": "code",
   "execution_count": 36,
   "metadata": {},
   "outputs": [],
   "source": [
    "# Reading the file\n",
    "df=read_HDF_file(data_case_storage, \"/transaction_and_locations\")\n",
    "df = df.drop(['parking_end', 'parkmeter_address', 'hourly_rate'], axis=1)\n",
    "df['real_hourly_rate'] = df['amount'] / df['duration_hours']\n",
    "df.to_hdf(new_data_path, key='transaction_and_locations')"
   ]
  },
  {
   "cell_type": "code",
   "execution_count": 34,
   "metadata": {
    "scrolled": true
   },
   "outputs": [
    {
     "name": "stdout",
     "output_type": "stream",
     "text": [
      "Index(['parkmeter_id', 'user_type', 'payment_method', 'amount',\n",
      "       'duration_hours', 'parking_start', 'arrondissement', 'system',\n",
      "       'residential_area', 'parkmeter_coordinates', 'real_hourly_rate'],\n",
      "      dtype='object')\n",
      "Number of parkmeters : 7805\n"
     ]
    }
   ],
   "source": [
    "print(df.keys())\n",
    "print(\"Number of parkmeters : \" + str(df[\"parkmeter_id\"].drop_duplicates().count()))"
   ]
  },
  {
   "cell_type": "code",
   "execution_count": 6,
   "metadata": {},
   "outputs": [
    {
     "name": "stdout",
     "output_type": "stream",
     "text": [
      "Revenus engendrés : \n",
      "61930408.510000125\n"
     ]
    }
   ],
   "source": [
    "print(\"Revenus engendrés : \")\n",
    "print(df[\"amount\"].sum())"
   ]
  },
  {
   "cell_type": "code",
   "execution_count": 19,
   "metadata": {},
   "outputs": [
    {
     "name": "stdout",
     "output_type": "stream",
     "text": [
      "Borne inf sur le nombre de paires heure de départ/arrivée erronés\n",
      "1035466\n",
      "7245887\n",
      "24251633\n"
     ]
    }
   ],
   "source": [
    "print(\"Borne inf sur le nombre de paires heure de départ/arrivée erronés\")\n",
    "print(len(df[(df['parking_start'] > df['parking_end'])]))\n",
    "print(len(df[((df['parking_end'] - df['parking_start']) / pd.Timedelta('1s')) > 3600 * df[\"duration_hours\"]]))\n",
    "print(len(df))"
   ]
  },
  {
   "cell_type": "code",
   "execution_count": 25,
   "metadata": {},
   "outputs": [
    {
     "name": "stdout",
     "output_type": "stream",
     "text": [
      "          parkmeter_id user_type payment_method  amount  duration_hours  \\\n",
      "3002117       66391001   Rotatif    Paris Carte    2.40            2.00   \n",
      "3396563       66391001   Rotatif    Paris Carte    2.40            2.00   \n",
      "7922383       66391001  Résident             CB    0.65           10.00   \n",
      "2466696       66391002   Rotatif    Paris Carte    0.30            0.25   \n",
      "4356511       66391002   Rotatif    Paris Carte    0.30            0.25   \n",
      "13465343      66391002   Rotatif    Paris Carte    0.30            0.25   \n",
      "17828679      66391002  Résident    Paris Carte    0.55            8.46   \n",
      "1219802       66391201   Rotatif    Paris Carte    0.30            0.25   \n",
      "1358987       66391201  Résident             CB    0.65           10.00   \n",
      "3425108       66391201   Rotatif    Paris Carte    0.60            0.50   \n",
      "\n",
      "               parking_start         parking_end    parkmeter_address  \\\n",
      "3002117  2014-07-18 08:29:28 2014-07-18 13:00:00  121 BOULEVARD MURAT   \n",
      "3396563  2014-08-07 08:20:19 2014-08-07 13:00:00  121 BOULEVARD MURAT   \n",
      "7922383  2014-04-28 08:37:28 2014-04-28 21:00:00  121 BOULEVARD MURAT   \n",
      "2466696  2014-07-18 08:37:52 2014-07-18 11:15:00  126 BOULEVARD MURAT   \n",
      "4356511  2014-06-06 08:36:04 2014-06-06 11:15:00  126 BOULEVARD MURAT   \n",
      "13465343 2014-06-01 08:36:15 2014-06-01 11:15:00  126 BOULEVARD MURAT   \n",
      "17828679 2014-12-24 09:17:50 2014-12-24 20:00:00  126 BOULEVARD MURAT   \n",
      "1219802  2014-12-09 07:25:56 2014-12-09 10:15:00  133 BOULEVARD MURAT   \n",
      "1358987  2014-11-09 07:38:19 2014-11-09 20:00:00  133 BOULEVARD MURAT   \n",
      "3425108  2014-03-25 07:36:48 2014-03-25 10:30:00  133 BOULEVARD MURAT   \n",
      "\n",
      "          arrondissement system residential_area  hourly_rate  \\\n",
      "3002117               16    MIX              16Z          2.4   \n",
      "3396563               16    MIX              16Z          2.4   \n",
      "7922383               16    MIX              16Z          2.4   \n",
      "2466696               16    MIX              16Z          2.4   \n",
      "4356511               16    MIX              16Z          2.4   \n",
      "13465343              16    MIX              16Z          2.4   \n",
      "17828679              16    MIX              16Z          2.4   \n",
      "1219802               16    MIX              16Z          2.4   \n",
      "1358987               16    MIX              16Z          2.4   \n",
      "3425108               16    MIX              16Z          2.4   \n",
      "\n",
      "                 parkmeter_coordinates  \n",
      "3002117   48.8373519997, 2.25909199964  \n",
      "3396563   48.8373519997, 2.25909199964  \n",
      "7922383   48.8373519997, 2.25909199964  \n",
      "2466696   48.8371820002, 2.25911299974  \n",
      "4356511   48.8371820002, 2.25911299974  \n",
      "13465343  48.8371820002, 2.25911299974  \n",
      "17828679  48.8371820002, 2.25911299974  \n",
      "1219802   48.8371070004, 2.26071399972  \n",
      "1358987   48.8371070004, 2.26071399972  \n",
      "3425108   48.8371070004, 2.26071399972  \n"
     ]
    }
   ],
   "source": [
    "print(df[(((df['parking_end'] - df['parking_start']) / pd.Timedelta('1s')) < 10000 + 3600 * df[\"duration_hours\"]) & \n",
    "             (((df['parking_end'] - df['parking_start']) / pd.Timedelta('1s')) > 8000 + 3600 * df[\"duration_hours\"])].head(10))\n"
   ]
  },
  {
   "cell_type": "code",
   "execution_count": null,
   "metadata": {},
   "outputs": [],
   "source": [
    "new_parkmeters = df[['parkmeter_id', 'user_type', 'parkmeter_coordinates', 'amount', '']]\n"
   ]
  },
  {
   "cell_type": "code",
   "execution_count": 7,
   "metadata": {},
   "outputs": [
    {
     "name": "stdout",
     "output_type": "stream",
     "text": [
      "[1.08225108e-02 1.29870130e-02 1.30010834e-02 ... 1.62500000e+01\n",
      " 2.16666667e+01 6.50000000e+01]\n"
     ]
    }
   ],
   "source": [
    "rotatif_df = df[df['user_type'] == 'Résident']\n",
    "np_values = np.unique((rotatif_df['amount'] / rotatif_df['duration_hours']).values)\n",
    "print(np_values)"
   ]
  },
  {
   "cell_type": "code",
   "execution_count": 9,
   "metadata": {},
   "outputs": [
    {
     "data": {
      "image/png": "[encoded data removed]",
      "text/plain": [
       "<Figure size 432x288 with 1 Axes>"
      ]
     },
     "metadata": {
      "needs_background": "light"
     },
     "output_type": "display_data"
    }
   ],
   "source": [
    "import matplotlib.pyplot as plt\n",
    "plt.plot(np_values[:1000])\n",
    "plt.show()"
   ]
  },
  {
   "cell_type": "markdown",
   "metadata": {},
   "source": [
    "# Data extraction and saving"
   ]
  },
  {
   "cell_type": "code",
   "execution_count": 6,
   "metadata": {},
   "outputs": [],
   "source": [
    "# Extracting the parkmeter coordinates\n",
    "# The operation also retrieves the amount of money each parkmeter got\n",
    "parkmeter_infos = df[['parkmeter_id', 'parkmeter_coordinates', 'amount']]\n",
    "parkmeter_infos = parkmeter_infos.groupby([\"parkmeter_id\",\"parkmeter_coordinates\"], as_index=False)[\"amount\"].sum()\n",
    "#print(parkmeter_infos)"
   ]
  },
  {
   "cell_type": "code",
   "execution_count": 7,
   "metadata": {},
   "outputs": [
    {
     "name": "stdout",
     "output_type": "stream",
     "text": [
      "      parkmeter_id         parkmeter_coordinates    amount\n",
      "0            20301  48.8541990002, 2.33470999949  11135.68\n",
      "1            40102      48.830383, 2.31482099952   5087.55\n",
      "2            40202  48.8296970003, 2.31620000015   3663.65\n",
      "3            40401       48.82884, 2.31826000035   6222.35\n",
      "4            40405  48.8278949997, 2.32043099983  15185.06\n",
      "5            60102  48.8433079999, 2.34211300028  12546.34\n",
      "6            60202  48.8438679998, 2.33969899934   2135.62\n",
      "7            80101  48.8570260003, 2.28092100068   6089.97\n",
      "8           100402  48.8472750003, 2.32566599991  15695.36\n",
      "9           120104  48.8426530004, 2.29379500058   2597.80\n",
      "10          120201  48.8417590001, 2.29480300053   5786.91\n",
      "11          120204  48.8413179998, 2.29495799938   6174.21\n",
      "12          120302  48.8400059998, 2.29610099956   5478.91\n",
      "13          120501  48.8392820001, 2.29717500047   3825.00\n",
      "14          120601  48.8384990001, 2.29825900055   3047.65\n",
      "15          120702  48.8381139997, 2.29867299968   3769.75\n",
      "16          120801  48.8377840002, 2.29941300055   4890.40\n",
      "17          120901  48.8369330003, 2.30057299948   3025.84\n",
      "18          121003  48.8360170001, 2.30197200052   5005.97\n",
      "19          140101  48.8889309998, 2.34143999975   4392.10\n",
      "20          150102  48.8502500003, 2.30148900026   7596.13\n",
      "21          160101      48.889253, 2.30070699955   7138.19\n",
      "22          160202  48.8896050003, 2.30061999935   5353.90\n",
      "23          170101      48.850281, 2.27182099956   4224.87\n",
      "24          170102      48.850422, 2.27135099955   2955.19\n",
      "25          180102  48.8848460001, 2.33813400035    617.63\n",
      "26          200502  48.8853649996, 2.33647099953   3558.80\n",
      "27          220201  48.8786620003, 2.35027300007  10922.40\n",
      "28          240102  48.8465240003, 2.37492300003  12490.99\n",
      "29          240301  48.8477159996, 2.37544599966   7574.50\n",
      "...            ...                           ...       ...\n",
      "7775      99660102  48.8451420001, 2.27175600048   2955.71\n",
      "7776      99660202  48.8456829998, 2.27132500012   4285.51\n",
      "7777      99660302  48.8467620003, 2.27017200055   3910.60\n",
      "7778      99670102  48.8657279999, 2.31396199952  41501.26\n",
      "7779      99680202  48.8266180001, 2.34438100043   6210.64\n",
      "7780      99680301  48.8253870004, 2.34354300007   6739.38\n",
      "7781      99730102  48.8296460003, 2.37098199962   8393.06\n",
      "7782      99820101  48.8854330003, 2.28859899966   5170.74\n",
      "7783      99820202  48.8844929996, 2.28673499935   4926.62\n",
      "7784      99840102  48.8377319999, 2.30121199949   1865.91\n",
      "7785      99840301  48.8373029997, 2.30140999984   6054.65\n",
      "7786      99840303  48.8370229998, 2.30216200005   4528.05\n",
      "7787      99880103  48.8687760003, 2.36465400023  22008.63\n",
      "7788      99880202  48.8694289999, 2.36425099947  11466.37\n",
      "7789      99880302  48.8704419996, 2.36342800066   5700.04\n",
      "7790      99880303  48.8709419998, 2.36290200064   4489.39\n",
      "7791      99900203  48.8528079996, 2.26736800068   3444.87\n",
      "7792      99900501  48.8536920003, 2.26592399968   2651.30\n",
      "7793      99920101  48.8691129999, 2.28758299936   8018.09\n",
      "7794      99960201  48.8180060004, 2.36936999997    695.05\n",
      "7795      99960202  48.8182639999, 2.36991499939   1328.60\n",
      "7796      99960302  48.8174720001, 2.36750500009   4324.80\n",
      "7797      99980101      48.818487, 2.35260299961    388.40\n",
      "7798      99980106  48.8598082304, 2.34076191982   6296.43\n",
      "7799      99980107    48.85119503, 2.39789447961   5634.15\n",
      "7800      99980108   48.8232593401, 2.3776329396   3611.20\n",
      "7801      99980109  48.8218476696, 2.37865423013   1509.60\n",
      "7802      99980111  48.8496023896, 2.30324714986   2639.21\n",
      "7803      99980112    48.86589281, 2.31359264974  18870.88\n",
      "7804      99980113  48.8596835504, 2.34034126037   3474.49\n",
      "\n",
      "[7805 rows x 3 columns]\n"
     ]
    }
   ],
   "source": [
    "print(parkmeter_infos)"
   ]
  },
  {
   "cell_type": "code",
   "execution_count": null,
   "metadata": {},
   "outputs": [],
   "source": [
    "# Printing stuff\n",
    "print(type(parkmeter_infos))\n",
    "print(\"Shape of the dataframe : \" + str(parkmeter_infos.shape) + \"\\n\")\n",
    "\n",
    "print(\"Ten first lines\")\n",
    "print(parkmeter_infos.head(10))\n",
    "print(\"\\nExample for one cell\")\n",
    "print(parkmeter_infos.iloc[0])"
   ]
  },
  {
   "cell_type": "code",
   "execution_count": null,
   "metadata": {},
   "outputs": [],
   "source": [
    "# Storing the coordinates\n",
    "parkmeter_infos.to_hdf(parkmeter_coords_path, key='parkmeter_coordinates')"
   ]
  },
  {
   "cell_type": "code",
   "execution_count": null,
   "metadata": {},
   "outputs": [],
   "source": []
  }
 ],
 "metadata": {
  "kernelspec": {
   "display_name": "Python 3",
   "language": "python",
   "name": "python3"
  },
  "language_info": {
   "codemirror_mode": {
    "name": "ipython",
    "version": 3
   },
   "file_extension": ".py",
   "mimetype": "text/x-python",
   "name": "python",
   "nbconvert_exporter": "python",
   "pygments_lexer": "ipython3",
   "version": "3.7.0"
  }
 },
 "nbformat": 4,
 "nbformat_minor": 2
}
