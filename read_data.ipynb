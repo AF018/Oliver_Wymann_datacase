{
 "cells": [
  {
   "cell_type": "markdown",
   "metadata": {},
   "source": [
    "# Imports and function definitions"
   ]
  },
  {
   "cell_type": "code",
   "execution_count": null,
   "metadata": {},
   "outputs": [],
   "source": [
    "# Used Python 3.7, beware\n",
    "\n",
    "import pandas as pd\n",
    "import numpy as np\n",
    "\n",
    "data_case_storage=\"C://Users//Antoine//Documents//Ecole des Ponts//Cours 3A//Oliver Wymann//stored_data_case.h5\"\n",
    "parkmeter_coords_path = 'C://Users//Antoine//Documents//Ecole des Ponts//Cours 3A//Oliver Wymann//parkmeter_coords.h5'"
   ]
  },
  {
   "cell_type": "code",
   "execution_count": null,
   "metadata": {},
   "outputs": [],
   "source": [
    "def list_HDF_file(file_name):\n",
    "    with pd.HDFStore(file_name, complevel=9, complib='blosc') as store:\n",
    "        result = store.keys()   \n",
    "    return result\n",
    "\n",
    "def read_HDF_file(file_name, table):\n",
    "    with pd.HDFStore(file_name, complevel=9, complib='blosc') as store:\n",
    "        return store[table]"
   ]
  },
  {
   "cell_type": "markdown",
   "metadata": {},
   "source": [
    "# Data reading"
   ]
  },
  {
   "cell_type": "code",
   "execution_count": null,
   "metadata": {},
   "outputs": [],
   "source": [
    "# List of the data series in this dataframe\n",
    "print(list_HDF_file(data_case_storage))"
   ]
  },
  {
   "cell_type": "code",
   "execution_count": null,
   "metadata": {},
   "outputs": [],
   "source": [
    "# Reading the file\n",
    "df=read_HDF_file(data_case_storage, \"/transaction_and_locations\")"
   ]
  },
  {
   "cell_type": "code",
   "execution_count": null,
   "metadata": {},
   "outputs": [],
   "source": [
    "print(df.keys())\n",
    "print(\"Number of parkmeters : \" + str(df[\"parkmeter_id\"].drop_duplicates().count()))"
   ]
  },
  {
   "cell_type": "markdown",
   "metadata": {},
   "source": [
    "# Data extraction and saving"
   ]
  },
  {
   "cell_type": "code",
   "execution_count": null,
   "metadata": {},
   "outputs": [],
   "source": [
    "# Extracting the parkmeter coordinates\n",
    "# The operation also retrieves the amount of money each parkmeter got\n",
    "parkmeter_infos = df[['parkmeter_id', 'parkmeter_coordinates', 'amount']]\n",
    "parkmeter_infos = parkmeter_infos.groupby([\"parkmeter_id\",\"parkmeter_coordinates\"], as_index=False)[\"amount\"].sum()\n",
    "#print(parkmeter_infos)"
   ]
  },
  {
   "cell_type": "code",
   "execution_count": null,
   "metadata": {},
   "outputs": [],
   "source": [
    "# Printing stuff\n",
    "print(type(parkmeter_infos))\n",
    "print(\"Shape of the dataframe : \" + str(parkmeter_infos.shape) + \"\\n\")\n",
    "\n",
    "print(\"Ten first lines\")\n",
    "print(parkmeter_infos.head(10))\n",
    "print(\"\\nExample for one cell\")\n",
    "print(parkmeter_infos.iloc[0])"
   ]
  },
  {
   "cell_type": "code",
   "execution_count": null,
   "metadata": {},
   "outputs": [],
   "source": [
    "# Storing the coordinates\n",
    "parkmeter_infos.to_hdf(parkmeter_coords_path, key='parkmeter_coordinates')"
   ]
  },
  {
   "cell_type": "code",
   "execution_count": null,
   "metadata": {},
   "outputs": [],
   "source": []
  }
 ],
 "metadata": {
  "kernelspec": {
   "display_name": "Python 3",
   "language": "python",
   "name": "python3"
  },
  "language_info": {
   "codemirror_mode": {
    "name": "ipython",
    "version": 3
   },
   "file_extension": ".py",
   "mimetype": "text/x-python",
   "name": "python",
   "nbconvert_exporter": "python",
   "pygments_lexer": "ipython3",
   "version": "3.7.0"
  }
 },
 "nbformat": 4,
 "nbformat_minor": 2
}
