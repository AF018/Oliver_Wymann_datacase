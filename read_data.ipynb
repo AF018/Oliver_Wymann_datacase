{
 "cells": [
  {
   "cell_type": "code",
   "execution_count": 2,
   "metadata": {},
   "outputs": [],
   "source": [
    "# Used Python 3.7, beware\n",
    "\n",
    "import pandas as pd\n",
    "import numpy as np\n",
    "\n",
    "data_case_storage=\"C://Users//Antoine//Documents//Ecole des Ponts//Cours 3A//Oliver Wymann//stored_data_case.h5\"\n",
    "parkmeter_coords_path = 'C://Users//Antoine//Documents//Ecole des Ponts//Cours 3A//Oliver Wymann//parkmeter_coords.h5'"
   ]
  },
  {
   "cell_type": "code",
   "execution_count": 3,
   "metadata": {},
   "outputs": [],
   "source": [
    "def list_HDF_file(file_name):\n",
    "    with pd.HDFStore(file_name, complevel=9, complib='blosc') as store:\n",
    "        result = store.keys()   \n",
    "    return result\n",
    "\n",
    "def read_HDF_file(file_name, table):\n",
    "    with pd.HDFStore(file_name, complevel=9, complib='blosc') as store:\n",
    "        return store[table]"
   ]
  },
  {
   "cell_type": "code",
   "execution_count": 4,
   "metadata": {},
   "outputs": [
    {
     "name": "stdout",
     "output_type": "stream",
     "text": [
      "['/parking_counts', '/parkmeters_zones_12_12', '/transaction_and_locations']\n"
     ]
    }
   ],
   "source": [
    "print(list_HDF_file(data_case_storage))"
   ]
  },
  {
   "cell_type": "code",
   "execution_count": 5,
   "metadata": {},
   "outputs": [],
   "source": [
    "# Reading the file\n",
    "df=read_HDF_file(data_case_storage, \"/transaction_and_locations\")"
   ]
  },
  {
   "cell_type": "code",
   "execution_count": 6,
   "metadata": {},
   "outputs": [],
   "source": [
    "# Extracting the parkmeter coordinates and deleting the duplicates\n",
    "parkmeter_coordinates = df[['parkmeter_id', 'parkmeter_coordinates']].drop_duplicates()"
   ]
  },
  {
   "cell_type": "code",
   "execution_count": 10,
   "metadata": {},
   "outputs": [
    {
     "name": "stdout",
     "output_type": "stream",
     "text": [
      "<class 'pandas.core.frame.DataFrame'>\n",
      "(7805, 2)\n",
      "    parkmeter_id         parkmeter_coordinates\n",
      "0       66391001  48.8373519997, 2.25909199964\n",
      "2       66391002  48.8371820002, 2.25911299974\n",
      "6       66391201  48.8371070004, 2.26071399972\n",
      "21      66391304  48.8375160002, 2.26252099978\n",
      "32      66391401  48.8377550003, 2.26251399952\n",
      "36      66391702  48.8384629998, 2.26385300067\n",
      "44      66391703   48.8389869999, 2.2642219997\n",
      "57      66391901  48.8389609998, 2.26591800019\n",
      "65      66430102  48.8644500002, 2.39151599948\n",
      "67      66450101  48.8778510001, 2.30932099988\n"
     ]
    }
   ],
   "source": [
    "# Printing stuff\n",
    "print(type(parkmeter_coordinates))\n",
    "print(parkmeter_coordinates.shape)\n",
    "\n",
    "print(parkmeter_coordinates.head(10))\n",
    "#print(parkmeter_coordinates[44])\n",
    "#print(type(parkmeter_coordinates[44]))\n",
    "#float_coords = np.array(parkmeter_coordinates[44], dtype=np.float64)"
   ]
  },
  {
   "cell_type": "code",
   "execution_count": 11,
   "metadata": {},
   "outputs": [],
   "source": [
    "# Storing the coordinates\n",
    "parkmeter_coordinates.to_hdf(parkmeter_coords_path, key='parkmeter_coordinates')"
   ]
  },
  {
   "cell_type": "code",
   "execution_count": null,
   "metadata": {},
   "outputs": [],
   "source": []
  }
 ],
 "metadata": {
  "kernelspec": {
   "display_name": "Python 3",
   "language": "python",
   "name": "python3"
  },
  "language_info": {
   "codemirror_mode": {
    "name": "ipython",
    "version": 3
   },
   "file_extension": ".py",
   "mimetype": "text/x-python",
   "name": "python",
   "nbconvert_exporter": "python",
   "pygments_lexer": "ipython3",
   "version": "3.7.0"
  }
 },
 "nbformat": 4,
 "nbformat_minor": 2
}
